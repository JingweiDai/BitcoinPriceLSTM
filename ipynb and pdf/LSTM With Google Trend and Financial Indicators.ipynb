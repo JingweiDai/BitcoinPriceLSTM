{
 "cells": [
  {
   "cell_type": "code",
   "execution_count": 2,
   "metadata": {},
   "outputs": [],
   "source": [
    "import pandas as pd \n",
    "from pandas import DataFrame\n",
    "from pandas import concat\n",
    "from math import sqrt\n",
    "from numpy import concatenate\n",
    "from sklearn.metrics import mean_squared_error\n",
    "import matplotlib.pyplot as pyplot \n",
    "import numpy as np \n",
    "from sklearn.preprocessing import MinMaxScaler\n",
    "from keras import Sequential\n",
    "from keras.layers import LSTM, Dense, Dropout, Activation\n",
    "from pandas import read_csv"
   ]
  },
  {
   "cell_type": "code",
   "execution_count": 3,
   "metadata": {},
   "outputs": [
    {
     "name": "stdout",
     "output_type": "stream",
     "text": [
      "                 Open       High        Low      Close        Volume  \\\n",
      "Date                                                                   \n",
      "2014-10-20    389.231    390.084    378.252    382.845  1.641900e+07   \n",
      "2014-10-21    382.421    392.646    380.834    386.475  1.418890e+07   \n",
      "2014-10-22    386.118    388.576    382.249    383.158  1.164130e+07   \n",
      "2014-10-23    382.962    385.048    356.447    358.417  2.645690e+07   \n",
      "2014-10-24    358.591    364.345    353.305    358.345  1.558570e+07   \n",
      "...               ...        ...        ...        ...           ...   \n",
      "2021-03-28  55974.941  56610.312  55071.113  55950.746  4.768658e+10   \n",
      "2021-03-29  55947.898  58342.098  55139.340  57750.199  5.762559e+10   \n",
      "2021-03-30  57750.133  59447.223  57251.551  58917.691  5.441412e+10   \n",
      "2021-03-31  58930.277  59930.027  57726.418  58918.832  6.552083e+10   \n",
      "2021-04-01  58926.562  59586.070  58505.277  59095.809  6.166916e+10   \n",
      "\n",
      "                  rsi  bitcoin  blockchain  buy bitcoin  sell bitcoin  \n",
      "Date                                                                   \n",
      "2014-10-20  41.817821     1.74        1.50         0.42          0.00  \n",
      "2014-10-21  31.744744     2.04        2.37         1.47          1.34  \n",
      "2014-10-22  34.152837     1.71        2.04         1.29          0.00  \n",
      "2014-10-23  25.454015     1.80        1.11         0.42          0.00  \n",
      "2014-10-24  23.550714     1.98        2.37         1.59          0.00  \n",
      "...               ...      ...         ...          ...           ...  \n",
      "2021-03-28  42.533099    30.50       24.48        14.16         11.75  \n",
      "2021-03-29  67.250433    33.00       35.70        14.64         16.25  \n",
      "2021-03-30  70.297299    35.00       39.78        13.20         14.00  \n",
      "2021-03-31  86.880785    34.00       34.68        13.44         13.00  \n",
      "2021-04-01  99.693894    50.00       50.00        12.42         16.50  \n",
      "\n",
      "[2356 rows x 10 columns]\n"
     ]
    }
   ],
   "source": [
    "# Load dataset by using Pandas library \n",
    "dataset = pd.read_csv(r\"E:\\PhD study\\ELEG5491 Introduction to Deep Learning\\bitcoin\\datasets\\bitcoinwithgoogleandfin.csv\", header=0, index_col=0)\n",
    "values = dataset.values\n",
    "print(dataset)\n",
    "# convert series to supervised learning\n",
    "def series_to_supervised(data, n_in=1, n_out=1, dropnan=True):\n",
    "\tn_vars = 1 if type(data) is list else data.shape[1]\n",
    "\tdf = DataFrame(data)\n",
    "\tcols, names = list(), list()\n",
    "\t# Here is created input columns which are (t-n, ... t-1)\n",
    "\tfor i in range(n_in, 0, -1):\n",
    "\t\tcols.append(df.shift(i))\n",
    "\t\tnames += [('var%d(t-%d)' % (j+1, i)) for j in range(n_vars)]\n",
    "\t# Here is created output/forecast column which are (t, t+1, ... t+n)\n",
    "\tfor i in range(0, n_out):\n",
    "\t\tcols.append(df.shift(-i))\n",
    "\t\tif i == 0:\n",
    "\t\t\tnames += [('var%d(t)' % (j+1)) for j in range(n_vars)]\n",
    "\t\telse:\n",
    "\t\t\tnames += [('var%d(t+%d)' % (j+1, i)) for j in range(n_vars)]\n",
    "\t# put it all together\n",
    "\tagg = concat(cols, axis=1)\n",
    "\tagg.columns = names\n",
    "\t# drop rows with NaN values\n",
    "\tif dropnan:\n",
    "\t\tagg.dropna(inplace=True)\n",
    "\treturn agg\n"
   ]
  },
  {
   "cell_type": "code",
   "execution_count": 4,
   "metadata": {},
   "outputs": [
    {
     "name": "stdout",
     "output_type": "stream",
     "text": [
      "2356\n"
     ]
    }
   ],
   "source": [
    "# Dataset values are normalized by using MinMax method\n",
    "scaler = MinMaxScaler(feature_range=(0,1))\n",
    "scaled = scaler.fit_transform(values)\n",
    "print(len(scaled))\n"
   ]
  },
  {
   "cell_type": "code",
   "execution_count": 5,
   "metadata": {},
   "outputs": [
    {
     "name": "stdout",
     "output_type": "stream",
     "text": [
      "[[0.00347836 0.00290136 0.00349635 ... 0.02056581 0.01292326 0.0134    ]\n",
      " [0.0033668  0.00294304 0.00354002 ... 0.01725522 0.01112002 0.        ]\n",
      " [0.00342737 0.00287683 0.00356395 ... 0.00792536 0.00240433 0.        ]\n",
      " ...\n",
      " [0.11248995 0.11161088 0.11268542 ... 0.25561798 0.03346023 0.01      ]\n",
      " [0.11134668 0.11135841 0.11413086 ... 0.22542135 0.04167502 0.0464    ]\n",
      " [0.11250715 0.11436986 0.11612458 ... 0.23404896 0.06832298 0.0464    ]]\n",
      "[[0.11064792 0.10984399 0.10851305 ... 0.20626003 0.05780405 0.07      ]\n",
      " [0.10600183 0.1157151  0.10770256 ... 0.14125201 0.03115608 0.0175    ]\n",
      " [0.11632047 0.11606677 0.11618093 ... 0.16773676 0.05219395 0.0371    ]\n",
      " ...\n",
      " [0.91361617 0.94563772 0.92959717 ... 0.39586677 0.13043478 0.14      ]\n",
      " [0.94313959 0.96361538 0.96531816 ... 0.34470305 0.13283911 0.13      ]\n",
      " [0.9624722  0.97146941 0.97334895 ... 0.49839486 0.12262072 0.165     ]]\n"
     ]
    }
   ],
   "source": [
    "# Normalized values are converted for supervised learning \n",
    "reframed = series_to_supervised(scaled,1,1,True)\n",
    "\n",
    "# Dataset is splitted into two groups which are train and test sets\n",
    "values = reframed.values \n",
    "train_size = int(len(values)*0.60)\n",
    "validation_size = int(len(values)*0.80)\n",
    "train = values[:train_size,:]\n",
    "validation =values[(train_size+1):validation_size,:]\n",
    "test = values[validation_size:,:]\n",
    "print(train)\n",
    "print(test)"
   ]
  },
  {
   "cell_type": "code",
   "execution_count": 6,
   "metadata": {},
   "outputs": [
    {
     "name": "stdout",
     "output_type": "stream",
     "text": [
      "[0.0034123  0.00335798 0.00295282 ... 0.11233078 0.11488003 0.11618143] (1413,)\n"
     ]
    }
   ],
   "source": [
    "# Splitted datasets are splitted to trainX, trainY, testX and testY \n",
    "trainX, trainY = train[:,:-1], train[:,13]\n",
    "validationX, validationY = validation[:,:-1], validation[:,13]\n",
    "testX, testY = test[:,:-1], test[:,13]\n",
    "print(trainY, trainY.shape)\n"
   ]
  },
  {
   "cell_type": "code",
   "execution_count": 7,
   "metadata": {},
   "outputs": [
    {
     "name": "stdout",
     "output_type": "stream",
     "text": [
      "(1413, 1, 19) (1413,) (471, 1, 19) (471,)\n"
     ]
    }
   ],
   "source": [
    "# Train and Test datasets are reshaped to be used in LSTM\n",
    "trainX = trainX.reshape((trainX.shape[0],1,trainX.shape[1]))\n",
    "validationX = validationX.reshape((validationX.shape[0],1,validationX.shape[1]))\n",
    "testX = testX.reshape((testX.shape[0],1,testX.shape[1]))\n",
    "print(trainX.shape, trainY.shape,testX.shape,testY.shape)\n"
   ]
  },
  {
   "cell_type": "code",
   "execution_count": 8,
   "metadata": {},
   "outputs": [
    {
     "name": "stdout",
     "output_type": "stream",
     "text": [
      "Epoch 1/30\n",
      "57/57 - 0s - loss: 2.3454e-04 - val_loss: 0.0010\n",
      "Epoch 2/30\n",
      "57/57 - 0s - loss: 6.2322e-04 - val_loss: 0.0014\n",
      "Epoch 3/30\n",
      "57/57 - 0s - loss: 7.0518e-04 - val_loss: 0.0014\n",
      "Epoch 4/30\n",
      "57/57 - 0s - loss: 0.0011 - val_loss: 8.1811e-04\n",
      "Epoch 5/30\n",
      "57/57 - 0s - loss: 8.1429e-04 - val_loss: 0.0021\n",
      "Epoch 6/30\n",
      "57/57 - 0s - loss: 2.8538e-04 - val_loss: 6.2960e-04\n",
      "Epoch 7/30\n",
      "57/57 - 0s - loss: 1.4638e-04 - val_loss: 3.9817e-04\n",
      "Epoch 8/30\n",
      "57/57 - 0s - loss: 1.2796e-04 - val_loss: 3.2748e-04\n",
      "Epoch 9/30\n",
      "57/57 - 0s - loss: 1.1463e-04 - val_loss: 2.6377e-04\n",
      "Epoch 10/30\n",
      "57/57 - 0s - loss: 9.9874e-05 - val_loss: 2.0800e-04\n",
      "Epoch 11/30\n",
      "57/57 - 0s - loss: 8.9577e-05 - val_loss: 1.5861e-04\n",
      "Epoch 12/30\n",
      "57/57 - 0s - loss: 7.6500e-05 - val_loss: 1.2453e-04\n",
      "Epoch 13/30\n",
      "57/57 - 0s - loss: 6.5446e-05 - val_loss: 9.9712e-05\n",
      "Epoch 14/30\n",
      "57/57 - 0s - loss: 6.1408e-05 - val_loss: 7.8272e-05\n",
      "Epoch 15/30\n",
      "57/57 - 0s - loss: 5.7400e-05 - val_loss: 6.6480e-05\n",
      "Epoch 16/30\n",
      "57/57 - 0s - loss: 5.7577e-05 - val_loss: 5.2851e-05\n",
      "Epoch 17/30\n",
      "57/57 - 0s - loss: 5.0721e-05 - val_loss: 4.3199e-05\n",
      "Epoch 18/30\n",
      "57/57 - 0s - loss: 4.8447e-05 - val_loss: 3.2427e-05\n",
      "Epoch 19/30\n",
      "57/57 - 0s - loss: 4.3097e-05 - val_loss: 2.3767e-05\n",
      "Epoch 20/30\n",
      "57/57 - 0s - loss: 3.8245e-05 - val_loss: 1.9346e-05\n",
      "Epoch 21/30\n",
      "57/57 - 0s - loss: 3.8677e-05 - val_loss: 2.0182e-05\n",
      "Epoch 22/30\n",
      "57/57 - 0s - loss: 3.8684e-05 - val_loss: 2.5288e-05\n",
      "Epoch 23/30\n",
      "57/57 - 0s - loss: 4.5276e-05 - val_loss: 2.5940e-05\n",
      "Epoch 24/30\n",
      "57/57 - 0s - loss: 4.5502e-05 - val_loss: 3.1190e-05\n",
      "Epoch 25/30\n",
      "57/57 - 0s - loss: 4.7448e-05 - val_loss: 3.2124e-05\n",
      "Epoch 26/30\n",
      "57/57 - 0s - loss: 4.5711e-05 - val_loss: 3.2873e-05\n",
      "Epoch 27/30\n",
      "57/57 - 0s - loss: 4.2763e-05 - val_loss: 3.6415e-05\n",
      "Epoch 28/30\n",
      "57/57 - 0s - loss: 4.6098e-05 - val_loss: 3.6216e-05\n",
      "Epoch 29/30\n",
      "57/57 - 0s - loss: 4.2393e-05 - val_loss: 3.6734e-05\n",
      "Epoch 30/30\n",
      "57/57 - 0s - loss: 3.9917e-05 - val_loss: 3.8954e-05\n"
     ]
    }
   ],
   "source": [
    "# LSTM model is created and adjusted neuron structure\n",
    "model = Sequential()\n",
    "model.add(LSTM(128, input_shape=(trainX.shape[1], trainX.shape[2])))\n",
    "model.add(Dropout(0.01))\n",
    "model.add(Dense(1))\n",
    "model.compile(loss='mean_squared_error', optimizer='adam')\n",
    "# Dataset is trained by using trainX and trainY, validated by validationX and validationY\n",
    "history = model.fit(trainX, trainY, epochs=30, batch_size=25, validation_data=(validationX, validationY), verbose=2, shuffle=False)\n"
   ]
  },
  {
   "cell_type": "code",
   "execution_count": 9,
   "metadata": {},
   "outputs": [
    {
     "data": {
      "image/png": "[encoded data removed]",
      "text/plain": [
       "<Figure size 432x288 with 1 Axes>"
      ]
     },
     "metadata": {
      "needs_background": "light"
     },
     "output_type": "display_data"
    }
   ],
   "source": [
    "# Loss values are calculated for every training epoch and are visualized\n",
    "pyplot.plot(history.history['loss'], label='train')\n",
    "pyplot.plot(history.history['val_loss'], label='validation')\n",
    "pyplot.title(\"Train and Validation set Loss Value Rate\")\n",
    "pyplot.xlabel('Epochs Number', fontsize=12)\n",
    "pyplot.ylabel('Loss Value', fontsize=12)\n",
    "pyplot.legend()\n",
    "pyplot.show()"
   ]
  },
  {
   "cell_type": "code",
   "execution_count": 10,
   "metadata": {},
   "outputs": [],
   "source": [
    "# Prediction process is performed for train dataset\n",
    "trainPredict = model.predict(trainX)\n",
    "trainX = trainX.reshape((trainX.shape[0], trainX.shape[2]))\n",
    "\n",
    "# Prediction process is performed for validation dataset\n",
    "validationPredict = model.predict(validationX)\n",
    "validationX = validationX.reshape((validationX.shape[0], validationX.shape[2]))\n",
    "\n",
    "# Prediction process is performed for test dataset\n",
    "testPredict = model.predict(testX)\n",
    "testX = testX.reshape((testX.shape[0], testX.shape[2]))\n",
    "\n",
    "# Train dataset inverts scaling for training\n",
    "trainPredict = concatenate((trainPredict, trainX[:, -9:]), axis=1)\n",
    "trainPredict = scaler.inverse_transform(trainPredict)\n",
    "trainPredict = trainPredict[:,0]\n",
    "\n",
    "# Validation dataset inverts scaling for training\n",
    "validationPredict = concatenate((validationPredict, validationX[:, -9:]), axis=1)\n",
    "validationPredict = scaler.inverse_transform(validationPredict)\n",
    "validationPredict = validationPredict[:,0]\n",
    "\n",
    "# Test dataset inverts scaling for forecasting\n",
    "testPredict = concatenate((testPredict, testX[:, -9:]), axis=1)\n",
    "testPredict = scaler.inverse_transform(testPredict)\n",
    "testPredict = testPredict[:,0]"
   ]
  },
  {
   "cell_type": "code",
   "execution_count": 11,
   "metadata": {},
   "outputs": [],
   "source": [
    "# invert scaling for actual\n",
    "trainY = trainY.reshape((len(trainY), 1))\n",
    "inv_trainy = concatenate((trainY, trainX[:, -9:]), axis=1)\n",
    "inv_trainy = scaler.inverse_transform(inv_trainy)\n",
    "inv_trainy = inv_trainy[:,0]\n",
    "\n",
    "validationY = validationY.reshape((len(validationY), 1))\n",
    "inv_validationy = concatenate((validationY, validationX[:, -9:]), axis=1)\n",
    "inv_validationy = scaler.inverse_transform(inv_validationy)\n",
    "inv_validationy = inv_validationy[:,0]\n",
    "\n",
    "testY = testY.reshape((len(testY), 1))\n",
    "inv_testy = concatenate((testY, testX[:, -9:]), axis=1)\n",
    "inv_testy = scaler.inverse_transform(inv_testy)\n",
    "inv_testy = inv_testy[:,0]"
   ]
  },
  {
   "cell_type": "code",
   "execution_count": 12,
   "metadata": {},
   "outputs": [
    {
     "name": "stdout",
     "output_type": "stream",
     "text": [
      "Train RMSE: 873.668\n",
      "Validation RMSE: 380.995\n",
      "Test RMSE: 1294.680\n"
     ]
    }
   ],
   "source": [
    "#It should be noted that RMSE would be different each time run the code\n",
    "#becasue of dropout layer.\n",
    "# Performance measure calculated by using mean_squared_error for train and test prediction\n",
    "rmset = sqrt(mean_squared_error(inv_trainy, trainPredict))\n",
    "print('Train RMSE: %.3f' % rmset)\n",
    "rmsev = sqrt(mean_squared_error(inv_validationy, validationPredict))\n",
    "print('Validation RMSE: %.3f' % rmsev)\n",
    "rmse = sqrt(mean_squared_error(inv_testy, testPredict))\n",
    "print('Test RMSE: %.3f' % rmse)"
   ]
  },
  {
   "cell_type": "code",
   "execution_count": 13,
   "metadata": {},
   "outputs": [
    {
     "data": {
      "image/png": "[encoded data removed]",
      "text/plain": [
       "<Figure size 432x288 with 1 Axes>"
      ]
     },
     "metadata": {
      "needs_background": "light"
     },
     "output_type": "display_data"
    }
   ],
   "source": [
    "# Three parts of datasets are concatenated\n",
    "final = np.append(trainPredict, validationPredict)\n",
    "final = np.append(final, testPredict)\n",
    "final = pd.DataFrame(data=final, columns=['Close'])\n",
    "actual = dataset.Close\n",
    "actual = actual.values\n",
    "actual = pd.DataFrame(data=actual, columns=['Close'])\n",
    "\n",
    "# Finally result are visualized\n",
    "pyplot.plot(actual.Close, 'b', label='Real Value')\n",
    "pyplot.plot(final.Close[1884:len(final)], 'g' , label='Predicted Value')\n",
    "pyplot.title(\"Daily Bitcoin Predicted Prices\")\n",
    "pyplot.xlabel('Daily Time', fontsize=12)\n",
    "pyplot.ylabel('Close Price', fontsize=12)\n",
    "pyplot.legend(loc='best')\n",
    "pyplot.show()"
   ]
  },
  {
   "cell_type": "code",
   "execution_count": null,
   "metadata": {},
   "outputs": [],
   "source": []
  }
 ],
 "metadata": {
  "kernelspec": {
   "display_name": "Python 3",
   "language": "python",
   "name": "python3"
  },
  "language_info": {
   "codemirror_mode": {
    "name": "ipython",
    "version": 3
   },
   "file_extension": ".py",
   "mimetype": "text/x-python",
   "name": "python",
   "nbconvert_exporter": "python",
   "pygments_lexer": "ipython3",
   "version": "3.8.5"
  }
 },
 "nbformat": 4,
 "nbformat_minor": 4
}
