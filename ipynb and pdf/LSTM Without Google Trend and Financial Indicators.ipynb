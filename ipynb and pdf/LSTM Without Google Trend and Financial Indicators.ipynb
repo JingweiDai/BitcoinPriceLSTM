{
 "cells": [
  {
   "cell_type": "code",
   "execution_count": 1,
   "metadata": {},
   "outputs": [],
   "source": [
    "import pandas as pd\n",
    "import numpy as np\n",
    "import datetime\n",
    "import pytz  #function of time region\n",
    "import statsmodels.api as sm  # Unit root test\n",
    "import matplotlib.pyplot as plt \n",
    "import seaborn as sns\n",
    "import matplotlib.dates as mdate\n",
    "\n",
    "from keras.layers import Dropout\n",
    "from statsmodels.tsa.arima.model import ARIMA  #ARIMA  model\n",
    "from statsmodels.graphics.tsaplots import plot_acf, plot_pacf\n",
    "from datetime import datetime\n",
    "from pmdarima.arima import auto_arima\n",
    "from math import sqrt\n",
    "from sklearn.metrics import mean_squared_error"
   ]
  },
  {
   "cell_type": "code",
   "execution_count": 3,
   "metadata": {},
   "outputs": [
    {
     "data": {
      "text/plain": [
       "array([[ 382.845],\n",
       "       [ 386.475],\n",
       "       [ 383.158],\n",
       "       ...,\n",
       "       [7152.302],\n",
       "       [6932.48 ],\n",
       "       [6640.515]])"
      ]
     },
     "execution_count": 3,
     "metadata": {},
     "output_type": "execute_result"
    }
   ],
   "source": [
    "bitcoin = pd.read_csv(r\"E:\\PhD study\\ELEG5491 Introduction to Deep Learning\\bitcoin\\datasets\\bitcoin1dimtrain.csv\")\n",
    "training_set1=bitcoin.values            #converting to 2d array\n",
    "training_set1 "
   ]
  },
  {
   "cell_type": "code",
   "execution_count": 4,
   "metadata": {},
   "outputs": [],
   "source": [
    "from sklearn.preprocessing import MinMaxScaler\n",
    "sc = MinMaxScaler()                           #scaling using normalisation \n",
    "training_set1 = sc.fit_transform(training_set1)\n",
    "xtrain=training_set1[0:1884]                  #input values of rows [0-2694]\t\t   \n",
    "ytrain=training_set1[1:1885] "
   ]
  },
  {
   "cell_type": "code",
   "execution_count": 5,
   "metadata": {},
   "outputs": [],
   "source": [
    "today=pd.DataFrame(xtrain)               #assigning the values of xtrain to today\n",
    "tomorrow=pd.DataFrame(ytrain)            #assigning the values of xtrain to tomorrow\n",
    "ex= pd.concat([today,tomorrow],axis=1)        #concat two columns \n",
    "ex.columns=(['today','tomorrow'])\n",
    "xtrain = np.reshape(xtrain, (1884, 1, 1))"
   ]
  },
  {
   "cell_type": "code",
   "execution_count": 6,
   "metadata": {},
   "outputs": [],
   "source": [
    "from keras.models import Sequential\n",
    "from keras.layers import Dense\n",
    "from keras.layers import LSTM\n"
   ]
  },
  {
   "cell_type": "code",
   "execution_count": 7,
   "metadata": {},
   "outputs": [
    {
     "name": "stdout",
     "output_type": "stream",
     "text": [
      "Epoch 1/30\n",
      "76/76 [==============================] - 0s 682us/step - loss: 0.0843\n",
      "Epoch 2/30\n",
      "76/76 [==============================] - 0s 656us/step - loss: 0.0427\n",
      "Epoch 3/30\n",
      "76/76 [==============================] - 0s 682us/step - loss: 0.0358\n",
      "Epoch 4/30\n",
      "76/76 [==============================] - 0s 696us/step - loss: 0.0327\n",
      "Epoch 5/30\n",
      "76/76 [==============================] - 0s 682us/step - loss: 0.0313\n",
      "Epoch 6/30\n",
      "76/76 [==============================] - 0s 656us/step - loss: 0.0298\n",
      "Epoch 7/30\n",
      "76/76 [==============================] - 0s 630us/step - loss: 0.0285\n",
      "Epoch 8/30\n",
      "76/76 [==============================] - 0s 654us/step - loss: 0.0269\n",
      "Epoch 9/30\n",
      "76/76 [==============================] - 0s 656us/step - loss: 0.0254\n",
      "Epoch 10/30\n",
      "76/76 [==============================] - 0s 669us/step - loss: 0.0244\n",
      "Epoch 11/30\n",
      "76/76 [==============================] - 0s 706us/step - loss: 0.0218\n",
      "Epoch 12/30\n",
      "76/76 [==============================] - 0s 669us/step - loss: 0.0212\n",
      "Epoch 13/30\n",
      "76/76 [==============================] - 0s 720us/step - loss: 0.0195\n",
      "Epoch 14/30\n",
      "76/76 [==============================] - 0s 709us/step - loss: 0.0188\n",
      "Epoch 15/30\n",
      "76/76 [==============================] - 0s 643us/step - loss: 0.0171\n",
      "Epoch 16/30\n",
      "76/76 [==============================] - 0s 643us/step - loss: 0.0153\n",
      "Epoch 17/30\n",
      "76/76 [==============================] - 0s 653us/step - loss: 0.0145\n",
      "Epoch 18/30\n",
      "76/76 [==============================] - 0s 722us/step - loss: 0.0132\n",
      "Epoch 19/30\n",
      "76/76 [==============================] - 0s 782us/step - loss: 0.0115\n",
      "Epoch 20/30\n",
      "76/76 [==============================] - 0s 718us/step - loss: 0.0107\n",
      "Epoch 21/30\n",
      "76/76 [==============================] - 0s 774us/step - loss: 0.0098\n",
      "Epoch 22/30\n",
      "76/76 [==============================] - 0s 722us/step - loss: 0.0088\n",
      "Epoch 23/30\n",
      "76/76 [==============================] - 0s 709us/step - loss: 0.0078\n",
      "Epoch 24/30\n",
      "76/76 [==============================] - 0s 643us/step - loss: 0.0068\n",
      "Epoch 25/30\n",
      "76/76 [==============================] - 0s 682us/step - loss: 0.0063\n",
      "Epoch 26/30\n",
      "76/76 [==============================] - 0s 577us/step - loss: 0.0075\n",
      "Epoch 27/30\n",
      "76/76 [==============================] - 0s 630us/step - loss: 0.0068\n",
      "Epoch 28/30\n",
      "76/76 [==============================] - 0s 617us/step - loss: 0.0041\n",
      "Epoch 29/30\n",
      "76/76 [==============================] - 0s 643us/step - loss: 0.0048\n",
      "Epoch 30/30\n",
      "76/76 [==============================] - 0s 643us/step - loss: 0.0059\n"
     ]
    },
    {
     "data": {
      "text/plain": [
       "<tensorflow.python.keras.callbacks.History at 0x1e42fd10fd0>"
      ]
     },
     "execution_count": 7,
     "metadata": {},
     "output_type": "execute_result"
    }
   ],
   "source": [
    "regressor=Sequential()                                                      #initialize the RNN\n",
    "regressor.add(LSTM(units=4,activation='sigmoid',input_shape=(None,1))) \n",
    "regressor.add(Dropout(0.01))     #adding input layerand the LSTM layer \n",
    "regressor.add(Dense(units=1))                                               #adding output layers\n",
    "regressor.compile(optimizer='adam',loss='mean_squared_error')               #compiling the RNN\n",
    "regressor.fit(xtrain,ytrain,batch_size=25,epochs=30) "
   ]
  },
  {
   "cell_type": "code",
   "execution_count": 9,
   "metadata": {},
   "outputs": [
    {
     "data": {
      "text/html": [
       "<div>\n",
       "<style scoped>\n",
       "    .dataframe tbody tr th:only-of-type {\n",
       "        vertical-align: middle;\n",
       "    }\n",
       "\n",
       "    .dataframe tbody tr th {\n",
       "        vertical-align: top;\n",
       "    }\n",
       "\n",
       "    .dataframe thead th {\n",
       "        text-align: right;\n",
       "    }\n",
       "</style>\n",
       "<table border=\"1\" class=\"dataframe\">\n",
       "  <thead>\n",
       "    <tr style=\"text-align: right;\">\n",
       "      <th></th>\n",
       "      <th>Close</th>\n",
       "    </tr>\n",
       "  </thead>\n",
       "  <tbody>\n",
       "    <tr>\n",
       "      <th>0</th>\n",
       "      <td>7276.803</td>\n",
       "    </tr>\n",
       "    <tr>\n",
       "      <th>1</th>\n",
       "      <td>7202.844</td>\n",
       "    </tr>\n",
       "    <tr>\n",
       "      <th>2</th>\n",
       "      <td>7218.816</td>\n",
       "    </tr>\n",
       "    <tr>\n",
       "      <th>3</th>\n",
       "      <td>7191.159</td>\n",
       "    </tr>\n",
       "    <tr>\n",
       "      <th>4</th>\n",
       "      <td>7511.589</td>\n",
       "    </tr>\n",
       "  </tbody>\n",
       "</table>\n",
       "</div>"
      ],
      "text/plain": [
       "      Close\n",
       "0  7276.803\n",
       "1  7202.844\n",
       "2  7218.816\n",
       "3  7191.159\n",
       "4  7511.589"
      ]
     },
     "execution_count": 9,
     "metadata": {},
     "output_type": "execute_result"
    }
   ],
   "source": [
    "#Get the test set\n",
    "test_set = pd.read_csv(r\"E:\\PhD study\\ELEG5491 Introduction to Deep Learning\\bitcoin\\datasets\\bitcoin1dimtest.csv\")\n",
    "test_set.head()\n"
   ]
  },
  {
   "cell_type": "code",
   "execution_count": 13,
   "metadata": {},
   "outputs": [
    {
     "name": "stdout",
     "output_type": "stream",
     "text": [
      "Test Score: 3094.80 RMSE\n"
     ]
    }
   ],
   "source": [
    "#Get the prediction result\n",
    "inputs = test_set.values      #converting to 2D array\n",
    "inputs = sc.fit_transform(inputs)\n",
    "inputs = np.reshape(inputs, (471, 1, 1))\n",
    "predicted_price = regressor.predict(inputs)\n",
    "predicted_price = sc.inverse_transform(predicted_price)\n",
    "testScore = sqrt(mean_squared_error(predicted_price, test_set))\n",
    "print('Test Score: %.2f RMSE' % (testScore))\n"
   ]
  },
  {
   "cell_type": "code",
   "execution_count": null,
   "metadata": {},
   "outputs": [],
   "source": []
  }
 ],
 "metadata": {
  "kernelspec": {
   "display_name": "Python 3",
   "language": "python",
   "name": "python3"
  },
  "language_info": {
   "codemirror_mode": {
    "name": "ipython",
    "version": 3
   },
   "file_extension": ".py",
   "mimetype": "text/x-python",
   "name": "python",
   "nbconvert_exporter": "python",
   "pygments_lexer": "ipython3",
   "version": "3.8.5"
  }
 },
 "nbformat": 4,
 "nbformat_minor": 4
}
