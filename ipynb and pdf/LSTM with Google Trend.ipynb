{
 "cells": [
  {
   "cell_type": "code",
   "execution_count": 1,
   "metadata": {},
   "outputs": [
    {
     "name": "stdout",
     "output_type": "stream",
     "text": [
      "               Open     High      Low    Close      Volume  bitcoin  \\\n",
      "Date                                                                  \n",
      "2014-10-20  389.231  390.084  378.252  382.845  16419000.0     1.74   \n",
      "2014-10-21  382.421  392.646  380.834  386.475  14188900.0     2.04   \n",
      "2014-10-22  386.118  388.576  382.249  383.158  11641300.0     1.71   \n",
      "2014-10-23  382.962  385.048  356.447  358.417  26456900.0     1.80   \n",
      "2014-10-24  358.591  364.345  353.305  358.345  15585700.0     1.98   \n",
      "\n",
      "            blockchain  bitcoinrise  buy bitcoin  sell bitcoin  \n",
      "Date                                                            \n",
      "2014-10-20        1.50        11.18         0.42          0.00  \n",
      "2014-10-21        2.37        11.18         1.47          1.34  \n",
      "2014-10-22        2.04         7.31         1.29          0.00  \n",
      "2014-10-23        1.11         3.87         0.42          0.00  \n",
      "2014-10-24        2.37         7.74         1.59          0.00  \n"
     ]
    }
   ],
   "source": [
    "import pandas as pd \n",
    "from pandas import DataFrame\n",
    "from pandas import concat\n",
    "from math import sqrt\n",
    "from numpy import concatenate\n",
    "from sklearn.metrics import mean_squared_error\n",
    "import matplotlib.pyplot as pyplot \n",
    "import numpy as np \n",
    "from sklearn.preprocessing import MinMaxScaler\n",
    "from keras import Sequential\n",
    "from keras.layers import LSTM, Dense, Dropout, Activation\n",
    "from pandas import read_csv\n",
    "\n",
    "# Load dataset by using Pandas library \n",
    "dataset = pd.read_csv(r\"E:\\PhD study\\ELEG5491 Introduction to Deep Learning\\bitcoin\\datasets\\bitcoinwithgoogleonly.csv\", header=0, index_col=0)\n",
    "print(dataset.head())\n",
    "values = dataset.values"
   ]
  },
  {
   "cell_type": "code",
   "execution_count": 2,
   "metadata": {},
   "outputs": [],
   "source": [
    "# convert series to supervised learning\n",
    "def series_to_supervised(data, n_in=1, n_out=1, dropnan=True):\n",
    "\tn_vars = 1 if type(data) is list else data.shape[1]\n",
    "\tdf = DataFrame(data)\n",
    "\tcols, names = list(), list()\n",
    "\t# Here is created input columns which are (t-n, ... t-1)\n",
    "\tfor i in range(n_in, 0, -1):\n",
    "\t\tcols.append(df.shift(i))\n",
    "\t\tnames += [('var%d(t-%d)' % (j+1, i)) for j in range(n_vars)]\n",
    "\t# Here is created output/forecast column which are (t, t+1, ... t+n)\n",
    "\tfor i in range(0, n_out):\n",
    "\t\tcols.append(df.shift(-i))\n",
    "\t\tif i == 0:\n",
    "\t\t\tnames += [('var%d(t)' % (j+1)) for j in range(n_vars)]\n",
    "\t\telse:\n",
    "\t\t\tnames += [('var%d(t+%d)' % (j+1, i)) for j in range(n_vars)]\n",
    "\t# put it all together\n",
    "\tagg = concat(cols, axis=1)\n",
    "\tagg.columns = names\n",
    "\t# drop rows with NaN values\n",
    "\tif dropnan:\n",
    "\t\tagg.dropna(inplace=True)\n",
    "\treturn agg"
   ]
  },
  {
   "cell_type": "code",
   "execution_count": 3,
   "metadata": {},
   "outputs": [],
   "source": [
    "# here checked values numeric format \n",
    "values = values.astype('float32')\n",
    "\n",
    "# Dataset values are normalized by using MinMax method\n",
    "scaler = MinMaxScaler(feature_range=(0,1))\n",
    "scaled = scaler.fit_transform(values)\n",
    "#print(scaled)\n",
    "\n",
    "# Normalized values are converted for supervised learning \n",
    "reframed = series_to_supervised(scaled,1,1)\n",
    "\n"
   ]
  },
  {
   "cell_type": "code",
   "execution_count": 4,
   "metadata": {},
   "outputs": [
    {
     "name": "stdout",
     "output_type": "stream",
     "text": [
      "[0.0034123  0.00335798 0.00295282 ... 0.11233079 0.11488003 0.11618144] (1413,)\n",
      "(1413, 1, 19) (1413,) (471, 1, 19) (471,)\n"
     ]
    }
   ],
   "source": [
    "# Dataset is splitted into two groups which are train and test sets\n",
    "values = reframed.values \n",
    "train_size = int(len(values)*0.60)\n",
    "validation_size = int(len(values)*0.80)\n",
    "train = values[:train_size,:]\n",
    "validation =values[train_size:validation_size,:]\n",
    "test = values[validation_size:,:]\n",
    "\n",
    "# Splitted datasets are splitted to trainX, trainY, testX and testY \n",
    "trainX, trainY = train[:,:-1], train[:,13]\n",
    "validationX, validationY = validation[:,:-1], validation[:,13]\n",
    "testX, testY = test[:,:-1], test[:,13]\n",
    "print(trainY, trainY.shape)\n",
    "\n",
    "# Train and Test datasets are reshaped in 3D size to be used in LSTM\n",
    "trainX = trainX.reshape((trainX.shape[0],1,trainX.shape[1]))\n",
    "validationX = validationX.reshape((validationX.shape[0],1,validationX.shape[1]))\n",
    "testX = testX.reshape((testX.shape[0],1,testX.shape[1]))\n",
    "print(trainX.shape, trainY.shape,testX.shape,testY.shape)"
   ]
  },
  {
   "cell_type": "code",
   "execution_count": 5,
   "metadata": {},
   "outputs": [
    {
     "name": "stdout",
     "output_type": "stream",
     "text": [
      "Epoch 1/30\n",
      "57/57 - 0s - loss: 1.4175e-04 - val_loss: 9.5979e-04\n",
      "Epoch 2/30\n",
      "57/57 - 0s - loss: 5.1683e-04 - val_loss: 6.3418e-04\n",
      "Epoch 3/30\n",
      "57/57 - 0s - loss: 4.1262e-04 - val_loss: 6.9180e-04\n",
      "Epoch 4/30\n",
      "57/57 - 0s - loss: 8.8880e-04 - val_loss: 8.9123e-04\n",
      "Epoch 5/30\n",
      "57/57 - 0s - loss: 4.2145e-04 - val_loss: 0.0011\n",
      "Epoch 6/30\n",
      "57/57 - 0s - loss: 2.8953e-04 - val_loss: 2.9638e-04\n",
      "Epoch 7/30\n",
      "57/57 - 0s - loss: 1.9421e-04 - val_loss: 1.3869e-04\n",
      "Epoch 8/30\n",
      "57/57 - 0s - loss: 1.1911e-04 - val_loss: 1.1559e-04\n",
      "Epoch 9/30\n",
      "57/57 - 0s - loss: 9.0237e-05 - val_loss: 8.7551e-05\n",
      "Epoch 10/30\n",
      "57/57 - 0s - loss: 7.7649e-05 - val_loss: 6.4103e-05\n",
      "Epoch 11/30\n",
      "57/57 - 0s - loss: 6.5608e-05 - val_loss: 5.1993e-05\n",
      "Epoch 12/30\n",
      "57/57 - 0s - loss: 4.9678e-05 - val_loss: 3.3824e-05\n",
      "Epoch 13/30\n",
      "57/57 - 0s - loss: 4.0273e-05 - val_loss: 2.6082e-05\n",
      "Epoch 14/30\n",
      "57/57 - 0s - loss: 2.9600e-05 - val_loss: 1.8638e-05\n",
      "Epoch 15/30\n",
      "57/57 - 0s - loss: 2.4752e-05 - val_loss: 1.7113e-05\n",
      "Epoch 16/30\n",
      "57/57 - 0s - loss: 2.0933e-05 - val_loss: 1.7754e-05\n",
      "Epoch 17/30\n",
      "57/57 - 0s - loss: 2.1481e-05 - val_loss: 1.7240e-05\n",
      "Epoch 18/30\n",
      "57/57 - 0s - loss: 1.7215e-05 - val_loss: 1.9856e-05\n",
      "Epoch 19/30\n",
      "57/57 - 0s - loss: 1.4937e-05 - val_loss: 2.1369e-05\n",
      "Epoch 20/30\n",
      "57/57 - 0s - loss: 1.7720e-05 - val_loss: 2.1118e-05\n",
      "Epoch 21/30\n",
      "57/57 - 0s - loss: 1.7358e-05 - val_loss: 2.3043e-05\n",
      "Epoch 22/30\n",
      "57/57 - 0s - loss: 1.6188e-05 - val_loss: 2.1702e-05\n",
      "Epoch 23/30\n",
      "57/57 - 0s - loss: 1.6760e-05 - val_loss: 2.0116e-05\n",
      "Epoch 24/30\n",
      "57/57 - 0s - loss: 1.5823e-05 - val_loss: 2.0071e-05\n",
      "Epoch 25/30\n",
      "57/57 - 0s - loss: 1.3106e-05 - val_loss: 2.7359e-05\n",
      "Epoch 26/30\n",
      "57/57 - 0s - loss: 1.2656e-05 - val_loss: 2.8583e-05\n",
      "Epoch 27/30\n",
      "57/57 - 0s - loss: 1.2780e-05 - val_loss: 3.8487e-05\n",
      "Epoch 28/30\n",
      "57/57 - 0s - loss: 1.4623e-05 - val_loss: 3.6778e-05\n",
      "Epoch 29/30\n",
      "57/57 - 0s - loss: 1.6659e-05 - val_loss: 3.9495e-05\n",
      "Epoch 30/30\n",
      "57/57 - 0s - loss: 1.7821e-05 - val_loss: 5.5435e-05\n"
     ]
    }
   ],
   "source": [
    "# LSTM model is created and adjusted neuron structure\n",
    "model = Sequential()\n",
    "model.add(LSTM(128, input_shape=(trainX.shape[1], trainX.shape[2])))\n",
    "model.add(Dropout(0.01))\n",
    "model.add(Dense(1))\n",
    "#model.add(Activation('linear'))\n",
    "model.compile(loss='mean_squared_error', optimizer='adam')\n",
    "# Dataset is trained by using trainX and trainY\n",
    "history = model.fit(trainX, trainY, epochs=30, batch_size=25, validation_data=(validationX, validationY), verbose=2, shuffle=False)\n"
   ]
  },
  {
   "cell_type": "code",
   "execution_count": 6,
   "metadata": {},
   "outputs": [
    {
     "data": {
      "image/png": "[encoded data removed]",
      "text/plain": [
       "<Figure size 432x288 with 1 Axes>"
      ]
     },
     "metadata": {
      "needs_background": "light"
     },
     "output_type": "display_data"
    }
   ],
   "source": [
    "# Loss values are calculated for every training epoch and are visualized\n",
    "pyplot.plot(history.history['loss'], label='train')\n",
    "pyplot.plot(history.history['val_loss'], label='validation')\n",
    "pyplot.title(\"Train and Validation set Loss Value Rate\")\n",
    "pyplot.xlabel('Epochs Number', fontsize=12)\n",
    "pyplot.ylabel('Loss Value', fontsize=12)\n",
    "pyplot.legend()\n",
    "pyplot.show()\n"
   ]
  },
  {
   "cell_type": "code",
   "execution_count": 7,
   "metadata": {},
   "outputs": [
    {
     "name": "stdout",
     "output_type": "stream",
     "text": [
      "(1413, 19)\n",
      "(471, 19)\n",
      "(471, 19)\n"
     ]
    }
   ],
   "source": [
    "# Prediction process is performed for train dataset\n",
    "trainPredict = model.predict(trainX)\n",
    "trainX = trainX.reshape((trainX.shape[0], trainX.shape[2]))\n",
    "print(trainX.shape)\n",
    "\n",
    "validationPredict = model.predict(validationX)\n",
    "validationX = validationX.reshape((validationX.shape[0], validationX.shape[2]))\n",
    "print(validationX.shape)\n",
    "\n",
    "# Prediction process is performed for test dataset\n",
    "testPredict = model.predict(testX)\n",
    "testX = testX.reshape((testX.shape[0], testX.shape[2]))\n",
    "print(testX.shape)\n"
   ]
  },
  {
   "cell_type": "code",
   "execution_count": 8,
   "metadata": {},
   "outputs": [],
   "source": [
    "# Trains dataset inverts scaling for training\n",
    "trainPredict = concatenate((trainPredict, trainX[:, -9:]), axis=1)\n",
    "trainPredict = scaler.inverse_transform(trainPredict)\n",
    "trainPredict = trainPredict[:,0]\n",
    "\n",
    "validationPredict = concatenate((validationPredict, validationX[:, -9:]), axis=1)\n",
    "validationPredict = scaler.inverse_transform(validationPredict)\n",
    "validationPredict = validationPredict[:,0]\n",
    "\n",
    "# Test dataset inverts scaling for forecasting\n",
    "testPredict = concatenate((testPredict, testX[:, -9:]), axis=1)\n",
    "testPredict = scaler.inverse_transform(testPredict)\n",
    "testPredict = testPredict[:,0]"
   ]
  },
  {
   "cell_type": "code",
   "execution_count": 9,
   "metadata": {},
   "outputs": [],
   "source": [
    "# invert scaling for actual\n",
    "trainY = trainY.reshape((len(trainY), 1))\n",
    "inv_trainy = concatenate((trainY, trainX[:, -9:]), axis=1)\n",
    "inv_trainy = scaler.inverse_transform(inv_trainy)\n",
    "inv_trainy = inv_trainy[:,0]\n",
    "\n",
    "validationY = validationY.reshape((len(validationY), 1))\n",
    "inv_validationy = concatenate((validationY, validationX[:, -9:]), axis=1)\n",
    "inv_validationy = scaler.inverse_transform(inv_validationy)\n",
    "inv_validationy = inv_validationy[:,0]\n",
    "\n",
    "testY = testY.reshape((len(testY), 1))\n",
    "inv_testy = concatenate((testY, testX[:, -9:]), axis=1)\n",
    "inv_testy = scaler.inverse_transform(inv_testy)\n",
    "inv_testy = inv_testy[:,0]"
   ]
  },
  {
   "cell_type": "code",
   "execution_count": 10,
   "metadata": {},
   "outputs": [
    {
     "name": "stdout",
     "output_type": "stream",
     "text": [
      "Train RMSE: 386.528\n",
      "Validation RMSE: 454.503\n",
      "Test RMSE: 1140.703\n"
     ]
    }
   ],
   "source": [
    "#It should be noted that RMSE would be different each time run the code\n",
    "#becasue of dropout layer.\n",
    "# Performance measure calculated by using mean_squared_error for train and test prediction\n",
    "rmset = sqrt(mean_squared_error(inv_trainy, trainPredict))\n",
    "print('Train RMSE: %.3f' % rmset)\n",
    "rmsev = sqrt(mean_squared_error(inv_validationy, validationPredict))\n",
    "print('Validation RMSE: %.3f' % rmsev)\n",
    "rmse = sqrt(mean_squared_error(inv_testy, testPredict))\n",
    "print('Test RMSE: %.3f' % rmse)\n"
   ]
  },
  {
   "cell_type": "code",
   "execution_count": 12,
   "metadata": {},
   "outputs": [
    {
     "data": {
      "image/png": "[encoded data removed]",
      "text/plain": [
       "<Figure size 432x288 with 1 Axes>"
      ]
     },
     "metadata": {
      "needs_background": "light"
     },
     "output_type": "display_data"
    }
   ],
   "source": [
    "# Three parts of datasets are concatenated\n",
    "final = np.append(trainPredict, validationPredict)\n",
    "final = np.append(final, testPredict)\n",
    "final = pd.DataFrame(data=final, columns=['Close'])\n",
    "actual = dataset.Close\n",
    "actual = actual.values\n",
    "actual = pd.DataFrame(data=actual, columns=['Close'])\n",
    "\n",
    "# Finally result are visualized\n",
    "pyplot.plot(actual.Close, 'b', label='Real Value')\n",
    "pyplot.plot(final.Close[1884:len(final)], 'g' , label='Predicted Value')\n",
    "pyplot.title(\"Daily Bitcoin Predicted Prices\")\n",
    "pyplot.xlabel('Daily Time', fontsize=12)\n",
    "pyplot.ylabel('Close Price', fontsize=12)\n",
    "pyplot.legend(loc='best')\n",
    "pyplot.show()"
   ]
  },
  {
   "cell_type": "code",
   "execution_count": null,
   "metadata": {},
   "outputs": [],
   "source": []
  }
 ],
 "metadata": {
  "kernelspec": {
   "display_name": "Python 3",
   "language": "python",
   "name": "python3"
  },
  "language_info": {
   "codemirror_mode": {
    "name": "ipython",
    "version": 3
   },
   "file_extension": ".py",
   "mimetype": "text/x-python",
   "name": "python",
   "nbconvert_exporter": "python",
   "pygments_lexer": "ipython3",
   "version": "3.8.5"
  }
 },
 "nbformat": 4,
 "nbformat_minor": 4
}
